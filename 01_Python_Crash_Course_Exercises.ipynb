{
  "cells": [
    {
      "cell_type": "markdown",
      "metadata": {
        "id": "view-in-github",
        "colab_type": "text"
      },
      "source": [
        "<a href=\"https://colab.research.google.com/github/ravigopal07/python/blob/python_for_finance/01_Python_Crash_Course_Exercises.ipynb\" target=\"_parent\"><img src=\"https://colab.research.google.com/assets/colab-badge.svg\" alt=\"Open In Colab\"/></a>"
      ]
    },
    {
      "cell_type": "markdown",
      "metadata": {
        "id": "6puvcFRV0QwI"
      },
      "source": [
        "# Python Crash Course Exercises\n",
        "\n",
        "This is an optional exercise to test your understanding of Python Basics. The questions tend to have a financial theme to them, but don't look to deeply into these tasks themselves, many of them don't hold any significance and are meaningless. If you find this extremely challenging, then you probably are not ready for the rest of this course yet and don't have enough programming experience to continue. I would suggest you take another course more geared towards complete beginners, such as [Complete Python Bootcamp](https://www.udemy.com/complete-python-bootcamp/)"
      ]
    },
    {
      "cell_type": "markdown",
      "source": [
        "# New Section"
      ],
      "metadata": {
        "id": "HNHjH_uA0fhJ"
      }
    },
    {
      "cell_type": "markdown",
      "source": [
        "# New Section"
      ],
      "metadata": {
        "id": "3MzPSHUO0UKC"
      }
    },
    {
      "cell_type": "markdown",
      "metadata": {
        "id": "Cwj-fs8w0QwL"
      },
      "source": [
        "## Exercises\n",
        "\n",
        "Answer the questions or complete the tasks outlined in bold below, use the specific method described if applicable."
      ]
    },
    {
      "cell_type": "markdown",
      "metadata": {
        "id": "9i2acxrW0QwL"
      },
      "source": [
        "### Task #1\n",
        "\n",
        "Given price = 300 , use python to figure out the square root of the price."
      ]
    },
    {
      "cell_type": "code",
      "execution_count": 2,
      "metadata": {
        "collapsed": true,
        "colab": {
          "base_uri": "https://localhost:8080/"
        },
        "id": "Tv1V3L0J0QwM",
        "outputId": "b45bfdcd-d97d-4188-9af5-cbb9d6330fbc"
      },
      "outputs": [
        {
          "output_type": "execute_result",
          "data": {
            "text/plain": [
              "17.320508075688775"
            ]
          },
          "metadata": {},
          "execution_count": 2
        }
      ],
      "source": [
        "from math import sqrt\n",
        "price = 300\n",
        "sqrt(price)"
      ]
    },
    {
      "cell_type": "code",
      "source": [
        "from google.colab import drive\n",
        "drive.mount('/content/drive')"
      ],
      "metadata": {
        "colab": {
          "base_uri": "https://localhost:8080/"
        },
        "id": "7YTHSpX33WHJ",
        "outputId": "d03023e9-fac6-45f8-a16c-704573425105"
      },
      "execution_count": 7,
      "outputs": [
        {
          "output_type": "stream",
          "name": "stdout",
          "text": [
            "Mounted at /content/drive\n"
          ]
        }
      ]
    },
    {
      "cell_type": "markdown",
      "source": [],
      "metadata": {
        "id": "dZlkZWEaaSXd"
      }
    },
    {
      "cell_type": "code",
      "source": [],
      "metadata": {
        "id": "wzatU3iAaTqu"
      },
      "execution_count": null,
      "outputs": []
    },
    {
      "cell_type": "code",
      "execution_count": null,
      "metadata": {
        "id": "JD0DBs0R0QwN",
        "outputId": "8927b089-b154-4366-be1b-5a6a74139541"
      },
      "outputs": [
        {
          "data": {
            "text/plain": [
              "17.320508075688775"
            ]
          },
          "execution_count": 6,
          "metadata": {},
          "output_type": "execute_result"
        }
      ],
      "source": []
    },
    {
      "cell_type": "markdown",
      "metadata": {
        "id": "5Cp850R30QwN"
      },
      "source": [
        "### Task #2\n",
        "\n",
        "Given the string:\n",
        "\n",
        "    stock_index = \"SP500\"\n",
        "   \n",
        "Grab '500' from the string using indexing."
      ]
    },
    {
      "cell_type": "code",
      "execution_count": 1,
      "metadata": {
        "collapsed": true,
        "colab": {
          "base_uri": "https://localhost:8080/",
          "height": 35
        },
        "id": "aKIQ13nA0QwN",
        "outputId": "cbc7fc80-5261-4978-d2b2-5c5d95452bfd"
      },
      "outputs": [
        {
          "output_type": "execute_result",
          "data": {
            "text/plain": [
              "'500'"
            ],
            "application/vnd.google.colaboratory.intrinsic+json": {
              "type": "string"
            }
          },
          "metadata": {},
          "execution_count": 1
        }
      ],
      "source": [
        "stock_index = \"SP500\"\n",
        "stock_index[2:]"
      ]
    },
    {
      "cell_type": "markdown",
      "metadata": {
        "id": "hlcMq6ET0QwN"
      },
      "source": [
        "### Task #3\n",
        "\n",
        "** Given the variables:**\n",
        "\n",
        "    stock_index = \"SP500\"\n",
        "    price = 300\n",
        "\n",
        "** Use .format() to print the following string: **\n",
        "\n",
        "    The SP500 is at 300 today."
      ]
    },
    {
      "cell_type": "code",
      "source": [],
      "metadata": {
        "id": "HBTU2BqV2jgE"
      },
      "execution_count": null,
      "outputs": []
    },
    {
      "cell_type": "code",
      "source": [],
      "metadata": {
        "id": "8_jceGI02rJQ"
      },
      "execution_count": null,
      "outputs": []
    },
    {
      "cell_type": "code",
      "execution_count": 5,
      "metadata": {
        "collapsed": true,
        "colab": {
          "base_uri": "https://localhost:8080/"
        },
        "id": "MRSUW0jr0QwO",
        "outputId": "8e965ec9-fdd8-411e-db22-b1f8ca6c2b75"
      },
      "outputs": [
        {
          "output_type": "stream",
          "name": "stdout",
          "text": [
            "The SP500 stock_index is at 300 price today.\n"
          ]
        }
      ],
      "source": [
        "stock_index = \"SP500\"\n",
        "price = 300\n",
        "print(\"The {} stock_index is at {} price today.\".format(stock_index,price))"
      ]
    },
    {
      "cell_type": "code",
      "execution_count": null,
      "metadata": {
        "id": "MoAbnPBd0QwO",
        "outputId": "767e869c-b8e3-4c10-83b9-718d458d9153"
      },
      "outputs": [
        {
          "name": "stdout",
          "output_type": "stream",
          "text": [
            "The SP500 is at 300 today.\n"
          ]
        }
      ],
      "source": []
    },
    {
      "cell_type": "markdown",
      "metadata": {
        "id": "PfAVO7aW0QwO"
      },
      "source": [
        "### Task #4\n",
        "\n",
        "** Given the variable of a nested dictionary with nested lists: **\n",
        "\n",
        "    stock_info = {'sp500':{'today':300,'yesterday': 250}, 'info':['Time',[24,7,365]]}\n",
        "    \n",
        "** Use indexing and key calls to grab the following items:**\n",
        "\n",
        "* Yesterday's SP500 price (250)\n",
        "* The number 365 nested inside a list nested inside the 'info' key."
      ]
    },
    {
      "cell_type": "code",
      "execution_count": 12,
      "metadata": {
        "collapsed": true,
        "colab": {
          "base_uri": "https://localhost:8080/"
        },
        "id": "MCj3Bb4i0QwP",
        "outputId": "18b330cb-5f56-42e0-eb93-dbca2f378a1f"
      },
      "outputs": [
        {
          "output_type": "stream",
          "name": "stdout",
          "text": [
            "250\n",
            "365\n"
          ]
        }
      ],
      "source": [
        "stock_info = {'sp500':{'today':300,'yesterday': 250}, 'info':['Time',[24,7,365]]}\n",
        "i = stock_info['sp500']['yesterday']\n",
        "j = stock_info['info'][1][2]\n",
        "print(i)\n",
        "print(j)\n"
      ]
    },
    {
      "cell_type": "code",
      "execution_count": null,
      "metadata": {
        "id": "gJIs8ncr0QwP",
        "outputId": "d37e97bf-5022-41c4-f007-9a1d1913ee5c"
      },
      "outputs": [
        {
          "data": {
            "text/plain": [
              "250"
            ]
          },
          "execution_count": 12,
          "metadata": {},
          "output_type": "execute_result"
        }
      ],
      "source": []
    },
    {
      "cell_type": "code",
      "execution_count": null,
      "metadata": {
        "id": "hsJYDs3K0QwP",
        "outputId": "c0ab63ac-85e6-4302-db89-43e3c269e3bf"
      },
      "outputs": [
        {
          "data": {
            "text/plain": [
              "365"
            ]
          },
          "execution_count": 15,
          "metadata": {},
          "output_type": "execute_result"
        }
      ],
      "source": []
    },
    {
      "cell_type": "markdown",
      "metadata": {
        "id": "n4GZOUKB0QwP"
      },
      "source": [
        "### Task #5\n",
        "\n",
        "** Given strings with this form where the last source value is always separated by two dashes -- **\n",
        "\n",
        "    \"PRICE:345.324:SOURCE--QUANDL\"\n",
        "    \n",
        "**Create a function called source_finder() that returns the source. For example, the above string passed into the function would return \"QUANDL\"**"
      ]
    },
    {
      "cell_type": "code",
      "execution_count": null,
      "metadata": {
        "collapsed": true,
        "id": "q-QRNrLw0QwP"
      },
      "outputs": [],
      "source": []
    },
    {
      "cell_type": "code",
      "execution_count": 14,
      "metadata": {
        "colab": {
          "base_uri": "https://localhost:8080/",
          "height": 35
        },
        "id": "4Q-TQozR0QwP",
        "outputId": "7f8d4623-6dd9-4cfd-c500-2ec41199a705"
      },
      "outputs": [
        {
          "output_type": "execute_result",
          "data": {
            "text/plain": [
              "'QUANDL'"
            ],
            "application/vnd.google.colaboratory.intrinsic+json": {
              "type": "string"
            }
          },
          "metadata": {},
          "execution_count": 14
        }
      ],
      "source": [
        "def source_finder(str1):\n",
        "  x = str1.split('--')\n",
        "  return(x[1])\n",
        "\n",
        "source_finder(\"PRICE:345.324:SOURCE--QUANDL\")"
      ]
    },
    {
      "cell_type": "markdown",
      "metadata": {
        "id": "zVkHxP8q0QwP"
      },
      "source": [
        "### Task #5\n",
        "\n",
        "** Create a function called price_finder that returns True if the word 'price' is in a string. Your function should work even if 'Price' is capitalized or next to punctuation ('price!')  **"
      ]
    },
    {
      "cell_type": "code",
      "execution_count": 24,
      "metadata": {
        "collapsed": true,
        "colab": {
          "base_uri": "https://localhost:8080/"
        },
        "id": "gEL1mc_80QwQ",
        "outputId": "faf24407-6ebb-40e2-f1ac-bff6ba342f57"
      },
      "outputs": [
        {
          "output_type": "execute_result",
          "data": {
            "text/plain": [
              "True"
            ]
          },
          "metadata": {},
          "execution_count": 24
        }
      ],
      "source": [
        "def price_finder(str1):\n",
        "  x = str1.lower()\n",
        "  y = 'price'\n",
        "  if y in x:\n",
        "    return True\n",
        "  else:\n",
        "    return False\n",
        "\n",
        "#price_finder(\"What is the price?\")\n",
        "#price_finder(\"DUDE, WHAT IS PRICE!!!\")\n",
        "price_finder(\"The price is 300\")\n"
      ]
    },
    {
      "cell_type": "code",
      "execution_count": null,
      "metadata": {
        "id": "HxHcuawT0QwQ",
        "outputId": "57d1ac74-1478-4a8c-8dfb-93a3ca01592c"
      },
      "outputs": [
        {
          "data": {
            "text/plain": [
              "True"
            ]
          },
          "execution_count": 20,
          "metadata": {},
          "output_type": "execute_result"
        }
      ],
      "source": [
        "price_finder(\"What is the price?\")"
      ]
    },
    {
      "cell_type": "code",
      "execution_count": null,
      "metadata": {
        "id": "Hqad9Yq_0QwQ",
        "outputId": "c88bcb4d-7ae1-4028-ce04-6fa393c2bf1d"
      },
      "outputs": [
        {
          "data": {
            "text/plain": [
              "True"
            ]
          },
          "execution_count": 22,
          "metadata": {},
          "output_type": "execute_result"
        }
      ],
      "source": [
        "price_finder(\"DUDE, WHAT IS PRICE!!!\")"
      ]
    },
    {
      "cell_type": "code",
      "execution_count": null,
      "metadata": {
        "id": "wgHc8yBR0QwQ",
        "outputId": "71d622a7-0240-4ea8-fbe9-a24f6e0de1c6"
      },
      "outputs": [
        {
          "data": {
            "text/plain": [
              "True"
            ]
          },
          "execution_count": 23,
          "metadata": {},
          "output_type": "execute_result"
        }
      ],
      "source": [
        "price_finder(\"The price is 300\")"
      ]
    },
    {
      "cell_type": "markdown",
      "metadata": {
        "id": "OkQEHUA60QwR"
      },
      "source": [
        "### Task #6\n",
        "\n",
        "** Create a function called count_price() that counts the number of times the word \"price\" occurs in a string. Account for capitalization and if the word price is next to punctuation. **"
      ]
    },
    {
      "cell_type": "code",
      "execution_count": null,
      "metadata": {
        "id": "n-X7j5jZ0QwR"
      },
      "outputs": [],
      "source": []
    },
    {
      "cell_type": "code",
      "execution_count": 29,
      "metadata": {
        "colab": {
          "base_uri": "https://localhost:8080/"
        },
        "id": "dWXOhZg60QwR",
        "outputId": "0aba4740-a442-48fc-92b3-6d10b2a2c209"
      },
      "outputs": [
        {
          "output_type": "stream",
          "name": "stdout",
          "text": [
            "['Wow', 'that', 'is', 'a', 'nice', 'price,', 'very', 'nice', 'Price!', 'I', 'said', 'price', '3', 'times.']\n"
          ]
        },
        {
          "output_type": "execute_result",
          "data": {
            "text/plain": [
              "2"
            ]
          },
          "metadata": {},
          "execution_count": 29
        }
      ],
      "source": [
        "def count_price(str):\n",
        "  count = 0\n",
        "  for i in str:\n",
        "    if 'price' in i:\n",
        "      count += 1\n",
        "  return (count)\n",
        "s = 'Wow that is a nice price, very nice Price! I said price 3 times.'\n",
        "str = s.split()\n",
        "print (str)\n",
        "count_price(str)"
      ]
    },
    {
      "cell_type": "code",
      "execution_count": null,
      "metadata": {
        "id": "FAjnA-q10QwR",
        "outputId": "9c8ef2ca-3b95-40eb-8910-a7b59131051a"
      },
      "outputs": [
        {
          "data": {
            "text/plain": [
              "3"
            ]
          },
          "execution_count": 47,
          "metadata": {},
          "output_type": "execute_result"
        }
      ],
      "source": [
        "\n",
        "\n"
      ]
    },
    {
      "cell_type": "markdown",
      "metadata": {
        "id": "yQ95Txtu0QwR"
      },
      "source": [
        "### Task #7\n",
        "\n",
        "**Create a function called avg_price that takes in a list of stock price numbers and calculates the average (Sum of the numbers divided by the number of elements in the list). It should return a float. **"
      ]
    },
    {
      "cell_type": "code",
      "execution_count": 10,
      "metadata": {
        "collapsed": true,
        "colab": {
          "base_uri": "https://localhost:8080/"
        },
        "id": "FH3EAypo0QwR",
        "outputId": "2c90ad59-c684-45b3-ea9d-e28f8aff5505"
      },
      "outputs": [
        {
          "output_type": "stream",
          "name": "stdout",
          "text": [
            "3\n",
            "12\n"
          ]
        }
      ],
      "source": [
        "def avg_price(stocks):\n",
        "    return sum(stocks)/len(stocks) # Python 2 users should multiply numerator by 1.0\n",
        "\n",
        "x = [3,4,5]\n",
        "avg_price(x)\n",
        "print(len(x))\n",
        "print(sum(x))"
      ]
    },
    {
      "cell_type": "code",
      "execution_count": null,
      "metadata": {
        "id": "l-QGkWFe0QwR",
        "outputId": "60c0ab0d-70b8-4eb8-fbbc-fa2cfff05e23"
      },
      "outputs": [
        {
          "data": {
            "text/plain": [
              "4.0"
            ]
          },
          "execution_count": 30,
          "metadata": {},
          "output_type": "execute_result"
        }
      ],
      "source": []
    },
    {
      "cell_type": "markdown",
      "metadata": {
        "id": "oMZJw0wX0QwS"
      },
      "source": [
        "# Great job!"
      ]
    }
  ],
  "metadata": {
    "anaconda-cloud": {},
    "kernelspec": {
      "display_name": "Python [default]",
      "language": "python",
      "name": "python3"
    },
    "language_info": {
      "codemirror_mode": {
        "name": "ipython",
        "version": 3
      },
      "file_extension": ".py",
      "mimetype": "text/x-python",
      "name": "python",
      "nbconvert_exporter": "python",
      "pygments_lexer": "ipython3",
      "version": "3.5.3"
    },
    "colab": {
      "provenance": [],
      "include_colab_link": true
    }
  },
  "nbformat": 4,
  "nbformat_minor": 0
}