{
  "metadata": {
    "kernelspec": {
      "name": "python",
      "display_name": "Python (Pyodide)",
      "language": "python"
    },
    "language_info": {
      "codemirror_mode": {
        "name": "python",
        "version": 3
      },
      "file_extension": ".py",
      "mimetype": "text/x-python",
      "name": "python",
      "nbconvert_exporter": "python",
      "pygments_lexer": "ipython3",
      "version": "3.8"
    }
  },
  "nbformat_minor": 4,
  "nbformat": 4,
  "cells": [
    {
      "cell_type": "code",
      "source": "tweet = 'Go Sports! #Sports'\ntweet.split('#')[1]",
      "metadata": {
        "trusted": true
      },
      "outputs": [
        {
          "execution_count": 3,
          "output_type": "execute_result",
          "data": {
            "text/plain": "'Sports'"
          },
          "metadata": {}
        }
      ],
      "execution_count": 3
    },
    {
      "cell_type": "code",
      "source": "d = {'key1': 'item1', 'key2': 'item2'}\nd.items()\n#d.keys()",
      "metadata": {
        "trusted": true
      },
      "outputs": [
        {
          "execution_count": 10,
          "output_type": "execute_result",
          "data": {
            "text/plain": "dict_items([('key1', 'item1'), ('key2', 'item2')])"
          },
          "metadata": {}
        }
      ],
      "execution_count": 10
    },
    {
      "cell_type": "code",
      "source": "import numpy as np\nmylist = [1,2,3,4]\nmylist_2 = [[1,2,3],[4,5,6],[7,8,9]]\nx = type(mylist)\nprint(x)\ny = type(np.array(mylist))\nz = np.array(mylist_2)\na = type(z)\nprint(z)\nprint(a)\nb = np.arange(0,10,2)\nprint(b)\nc = np.zeros(5)\nprint(c)\n",
      "metadata": {
        "trusted": true
      },
      "outputs": [
        {
          "name": "stdout",
          "text": "<class 'list'>\n[[1 2 3]\n [4 5 6]\n [7 8 9]]\n<class 'numpy.ndarray'>\n[0 2 4 6 8]\n[0. 0. 0. 0. 0.]\n",
          "output_type": "stream"
        }
      ],
      "execution_count": 29
    },
    {
      "cell_type": "code",
      "source": "np.zeros(5)\nnp.random.rand(5,2)\n",
      "metadata": {
        "trusted": true
      },
      "outputs": [
        {
          "execution_count": 31,
          "output_type": "execute_result",
          "data": {
            "text/plain": "array([[0.50373358, 0.73639537],\n       [0.49691047, 0.72892885],\n       [0.97034756, 0.14974975],\n       [0.69280669, 0.55413004],\n       [0.69604346, 0.9959972 ]])"
          },
          "metadata": {}
        }
      ],
      "execution_count": 31
    }
  ]
}